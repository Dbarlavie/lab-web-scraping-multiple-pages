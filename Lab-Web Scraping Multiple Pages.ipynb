{
 "cells": [
  {
   "cell_type": "code",
   "execution_count": 1,
   "id": "30085c63",
   "metadata": {},
   "outputs": [],
   "source": [
    "from bs4 import BeautifulSoup\n",
    "import requests"
   ]
  },
  {
   "cell_type": "code",
   "execution_count": 20,
   "id": "584ac419",
   "metadata": {},
   "outputs": [],
   "source": [
    "url1 = \"https://en.wikipedia.org/wiki/Python_Anghelo\""
   ]
  },
  {
   "cell_type": "code",
   "execution_count": 21,
   "id": "fb6f2dbd",
   "metadata": {},
   "outputs": [
    {
     "data": {
      "text/plain": [
       "200"
      ]
     },
     "execution_count": 21,
     "metadata": {},
     "output_type": "execute_result"
    }
   ],
   "source": [
    "response = requests.get(url1)\n",
    "response.status_code"
   ]
  },
  {
   "cell_type": "code",
   "execution_count": 22,
   "id": "abdcc636",
   "metadata": {},
   "outputs": [],
   "source": [
    "soup1 = BeautifulSoup(response.content, \"html.parser\")\n",
    "# soup1"
   ]
  },
  {
   "cell_type": "code",
   "execution_count": 23,
   "id": "ccfaa4c4",
   "metadata": {},
   "outputs": [
    {
     "data": {
      "text/plain": [
       "['/wiki/Comet_(pinball)',\n",
       " '/wiki/High_Speed_(pinball)',\n",
       " '/wiki/Pin*Bot',\n",
       " '/wiki/Big_Guns_(pinball)',\n",
       " '/wiki/Cyclone_(Williams_pinball)',\n",
       " '/wiki/Taxi_(pinball)',\n",
       " '/wiki/Police_Force_(pinball)',\n",
       " '/wiki/Bad_Cats',\n",
       " '/wiki/Bugs_Bunny%27s_Birthday_Ball',\n",
       " '/wiki/The_Machine:_Bride_of_Pin*Bot',\n",
       " '/wiki/Hurricane_(pinball)',\n",
       " '/wiki/Fish_Tales_(pinball)',\n",
       " '/wiki/Popeye_Saves_the_Earth',\n",
       " '/wiki/The_Pinball_Circus',\n",
       " '#cite_note-4',\n",
       " '#cite_note-5']"
      ]
     },
     "execution_count": 23,
     "metadata": {},
     "output_type": "execute_result"
    }
   ],
   "source": [
    "pinball_section = soup1.find('span', {'id': 'Pinball'})\n",
    "    \n",
    "    # Find all the links within the 'pinball' section\n",
    "pinball_links = pinball_section.find_next('ul').find_all('a')\n",
    "    \n",
    "    # Extract the href attribute from each link and store it in a list\n",
    "pinball_links_list = [link.get('href') for link in pinball_links if link.get('href')]    \n",
    "\n",
    "    # Print the list of pinball links\n",
    "pinball_links_list"
   ]
  },
  {
   "cell_type": "code",
   "execution_count": 28,
   "id": "5f238cdb",
   "metadata": {},
   "outputs": [
    {
     "data": {
      "text/plain": [
       "200"
      ]
     },
     "execution_count": 28,
     "metadata": {},
     "output_type": "execute_result"
    }
   ],
   "source": [
    "url2 = 'http://uscode.house.gov/download/download.shtml'\n",
    "response2 = requests.get(url2)\n",
    "response2.status_code"
   ]
  },
  {
   "cell_type": "code",
   "execution_count": 46,
   "id": "1169ae25",
   "metadata": {},
   "outputs": [
    {
     "ename": "IndentationError",
     "evalue": "unindent does not match any outer indentation level (<tokenize>, line 5)",
     "output_type": "error",
     "traceback": [
      "\u001b[1;36m  File \u001b[1;32m<tokenize>:5\u001b[1;36m\u001b[0m\n\u001b[1;33m    </div>\u001b[0m\n\u001b[1;37m    ^\u001b[0m\n\u001b[1;31mIndentationError\u001b[0m\u001b[1;31m:\u001b[0m unindent does not match any outer indentation level\n"
     ]
    }
   ],
   "source": [
    "<div class=\"usctitle\" id=\"us/usc/t1\">\n",
    "\n",
    "          Title 1 - General Provisions <span class=\"footnote\"><a href=\"#fn\" class=\"fn\">٭</a></span>\n",
    "\n",
    "        </div>"
   ]
  },
  {
   "cell_type": "code",
   "execution_count": 31,
   "id": "2d06b875",
   "metadata": {},
   "outputs": [],
   "source": [
    "soup2 = BeautifulSoup(response2.content, \"html.parser\")\n",
    "# soup2"
   ]
  },
  {
   "cell_type": "code",
   "execution_count": 47,
   "id": "5031207e",
   "metadata": {},
   "outputs": [
    {
     "name": "stdout",
     "output_type": "stream",
     "text": [
      "\n",
      "\n",
      "          All titles in the format selected compressed into a zip archive.\n",
      "\n",
      "        \n",
      "\n",
      "\n",
      "              \n",
      "\n",
      "\t        \n",
      "\n",
      "\n",
      "          Title 1 - General Provisions ٭\n",
      "\n",
      "\n",
      "\n",
      "          Title 3 - The President ٭\n",
      "\n",
      "\n",
      "\n",
      "          Title 4 - Flag and Seal, Seat of Government, and the States ٭\n",
      "\n",
      "\n",
      "\n",
      "          Title 7 - Agriculture\n",
      "\n",
      "        \n",
      "\n",
      "\n",
      "          Title 8 - Aliens and Nationality\n",
      "\n",
      "        \n",
      "\n",
      "\n",
      "          Title 9 - Arbitration ٭\n",
      "\n",
      "\n",
      "\n",
      "          Title 10 - Armed Forces ٭\n",
      "\n",
      "\n",
      "\n",
      "          Title 11 - Bankruptcy ٭\n",
      "\n",
      "\n",
      "\n",
      "          Title 12 - Banks and Banking\n",
      "\n",
      "        \n",
      "\n",
      "\n",
      "          Title 13 - Census ٭\n",
      "\n",
      "\n",
      "\n",
      "          Title 14 - Coast Guard ٭\n",
      "\n",
      "\n",
      "\n",
      "          Title 15 - Commerce and Trade\n",
      "\n",
      "        \n",
      "\n",
      "\n",
      "          Title 16 - Conservation\n",
      "\n",
      "        \n",
      "\n",
      "\n",
      "          Title 17 - Copyrights ٭\n",
      "\n",
      "\n",
      "\n",
      "          Title 20 - Education\n",
      "\n",
      "        \n",
      "\n",
      "\n",
      "          Title 21 - Food and Drugs\n",
      "\n",
      "        \n",
      "\n",
      "\n",
      "          Title 22 - Foreign Relations and Intercourse\n",
      "\n",
      "        \n",
      "\n",
      "\n",
      "          Title 23 - Highways ٭\n",
      "\n",
      "\n",
      "\n",
      "          Title 24 - Hospitals and Asylums\n",
      "\n",
      "        \n",
      "\n",
      "\n",
      "          Title 25 - Indians\n",
      "\n",
      "        \n",
      "\n",
      "\n",
      "          Title 26 - Internal Revenue Code\n",
      "\n",
      "        \n",
      "\n",
      "\n",
      "          Title 27 - Intoxicating Liquors\n",
      "\n",
      "        \n",
      "\n",
      "\n",
      "          Title 28 - Judiciary and Judicial Procedure ٭\n",
      "\n",
      "\n",
      "\n",
      "          Title 29 - Labor\n",
      "\n",
      "        \n",
      "\n",
      "\n",
      "          Title 30 - Mineral Lands and Mining\n",
      "\n",
      "        \n",
      "\n",
      "\n",
      "          Title 31 - Money and Finance ٭\n",
      "\n",
      "\n",
      "\n",
      "          Title 32 - National Guard ٭\n",
      "\n",
      "\n",
      "\n",
      "          Title 33 - Navigation and Navigable Waters\n",
      "\n",
      "        \n",
      "\n",
      "\n",
      "          Title 34 - Crime Control and Law Enforcement\n",
      "\n",
      "        \n",
      "\n",
      "\n",
      "          Title 35 - Patents ٭\n",
      "\n",
      "\n",
      "\n",
      "          Title 36 - Patriotic and National Observances, Ceremonies, and Organizations ٭\n",
      "\n",
      "\n",
      "\n",
      "          Title 37 - Pay and Allowances of the Uniformed Services ٭\n",
      "\n",
      "\n",
      "\n",
      "          Title 38 - Veterans' Benefits ٭\n",
      "\n",
      "\n",
      "\n",
      "          Title 39 - Postal Service ٭\n",
      "\n",
      "\n",
      "\n",
      "          Title 40 - Public Buildings, Property, and Works ٭\n",
      "\n",
      "\n",
      "\n",
      "          Title 41 - Public Contracts ٭\n",
      "\n",
      "\n",
      "\n",
      "          Title 43 - Public Lands\n",
      "\n",
      "        \n",
      "\n",
      "\n",
      "          Title 44 - Public Printing and Documents ٭\n",
      "\n",
      "\n",
      "\n",
      "          Title 45 - Railroads\n",
      "\n",
      "        \n",
      "\n",
      "\n",
      "          Title 46 - Shipping ٭\n",
      "\n",
      "\n",
      "\n",
      "          Title 47 - Telecommunications\n",
      "\n",
      "        \n",
      "\n",
      "\n",
      "          Title 48 - Territories and Insular Possessions\n",
      "\n",
      "        \n",
      "\n",
      "\n",
      "          Title 49 - Transportation ٭\n",
      "\n",
      "\n",
      "\n",
      "          Title 50 - War and National Defense\n",
      "\n",
      "        \n",
      "\n",
      "\n",
      "          Title 51 - National and Commercial Space Programs ٭\n",
      "\n",
      "\n",
      "\n",
      "          Title 52 - Voting and Elections\n",
      "\n",
      "        \n",
      "\n",
      "\n",
      "          Title 53 [Reserved]\n",
      "\n",
      "        \n",
      "\n",
      "\n",
      "          Title 54 - National Park Service and Related Programs ٭\n",
      "\n"
     ]
    }
   ],
   "source": [
    "for x in soup2.select(\"div.usctitle\"):\n",
    "    print(x.get_text())"
   ]
  },
  {
   "cell_type": "code",
   "execution_count": null,
   "id": "1465cbf8",
   "metadata": {},
   "outputs": [],
   "source": []
  }
 ],
 "metadata": {
  "language_info": {
   "codemirror_mode": {
    "name": "ipython",
    "version": 3
   },
   "file_extension": ".py",
   "mimetype": "text/x-python",
   "name": "python",
   "nbconvert_exporter": "python",
   "pygments_lexer": "ipython3",
   "version": "3.11.5"
  }
 },
 "nbformat": 4,
 "nbformat_minor": 5
}
